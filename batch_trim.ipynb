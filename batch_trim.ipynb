{
 "cells": [
  {
   "cell_type": "code",
   "execution_count": 1,
   "metadata": {},
   "outputs": [],
   "source": [
    "import os\n",
    "import boron_sputtering as bars\n",
    "import shutil\n",
    "import importlib\n",
    "import numpy as np\n",
    "from tqdm.notebook import tqdm"
   ]
  },
  {
   "cell_type": "code",
   "execution_count": 2,
   "metadata": {},
   "outputs": [
    {
     "data": {
      "application/vnd.jupyter.widget-view+json": {
       "model_id": "42d3dbd0f2824caa8a025deefd7ed181",
       "version_major": 2,
       "version_minor": 0
      },
      "text/plain": [
       "Simulations Progress:   0%|          | 0/6 [00:00<?, ?sim/s]"
      ]
     },
     "metadata": {},
     "output_type": "display_data"
    },
    {
     "name": "stdout",
     "output_type": "stream",
     "text": [
      "Running simulation for 95.0 eV\n",
      "Running simulation for 110.0 eV\n",
      "Running simulation for 120.0 eV\n",
      "Running simulation for 130.0 eV\n",
      "Running simulation for 150.0 eV\n",
      "Running simulation for 160.0 eV\n"
     ]
    }
   ],
   "source": [
    "importlib.reload(bars)\n",
    "srim_path = r\"c:\\\\Users\\\\queezz\\\\Dropbox\\\\10-Research\\\\SRIM\\\\\"\n",
    "\n",
    "trim_template = \"TRIM_TEMPLATE.IN\"\n",
    "output_folder = \"TRIM_RESULTS\"\n",
    "# energies = np.array(bars.generate_scaled_sequence(10, 1e6)) / 1000\n",
    "energies = np.array([95, 110, 120, 130, 150, 160]) / 1000\n",
    "if not os.path.exists(output_folder):\n",
    "    os.makedirs(output_folder)\n",
    "\n",
    "# for energy in energies:\n",
    "for energy in tqdm(energies, desc=\"Simulations Progress\", unit=\"sim\"):\n",
    "    print(f\"Running simulation for {energy*1000} eV\")\n",
    "    trim_in_path = os.path.join(srim_path, \"TRIM.IN\")\n",
    "    bars.generate_trim_in(trim_template, energy, trim_in_path)\n",
    "    bars.run_trim(srim_path)\n",
    "    output_file = os.path.join(srim_path, \"SRIM Restore\", \"TDATA.sav\")\n",
    "    if os.path.exists(output_file):\n",
    "        shutil.copy(output_file, os.path.join(output_folder, f\"output_{energy}.txt\"))"
   ]
  }
 ],
 "metadata": {
  "kernelspec": {
   "display_name": "base",
   "language": "python",
   "name": "python3"
  },
  "language_info": {
   "codemirror_mode": {
    "name": "ipython",
    "version": 3
   },
   "file_extension": ".py",
   "mimetype": "text/x-python",
   "name": "python",
   "nbconvert_exporter": "python",
   "pygments_lexer": "ipython3",
   "version": "3.9.12"
  }
 },
 "nbformat": 4,
 "nbformat_minor": 2
}
